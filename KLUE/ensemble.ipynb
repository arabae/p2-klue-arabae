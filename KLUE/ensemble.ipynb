{
 "cells": [
  {
   "cell_type": "code",
   "execution_count": 10,
   "id": "7ec733e0-299d-42e5-bfbf-1c57b4d7b180",
   "metadata": {},
   "outputs": [],
   "source": [
    "import numpy as np\n",
    "import pandas as pd"
   ]
  },
  {
   "cell_type": "markdown",
   "id": "2aba74e5-3d2a-43b4-ac14-abae6b3d5296",
   "metadata": {},
   "source": [
    "## soft voting"
   ]
  },
  {
   "cell_type": "code",
   "execution_count": 44,
   "id": "e30cc686-514b-4c03-ab68-6159f1855717",
   "metadata": {},
   "outputs": [],
   "source": [
    "ensemble_list = ['r_kfold', 'kfold', 'koelectra_gold']\n",
    "ensemble_logits = np.zeros((1000, 42))\n",
    "\n",
    "for i in range(len(ensemble_list)):\n",
    "    \n",
    "    logits = np.load(f'./results/{ensemble_list[i]}_logits.npy')\n",
    "    ensemble_logits += logits"
   ]
  },
  {
   "cell_type": "code",
   "execution_count": 4,
   "id": "058dacd0-2b7d-48f4-b4c6-33c304f5450a",
   "metadata": {},
   "outputs": [
    {
     "data": {
      "text/plain": [
       "array([[28.5583223 , -0.80647268, 22.91114664, ..., -1.71367186,\n",
       "        -2.00841723, -1.5457608 ],\n",
       "       [-1.24372327, -1.47615648, -3.16513752, ..., -1.25812784,\n",
       "        -1.20550906, -1.90217944],\n",
       "       [-1.9733036 , 25.06096967, -2.64852719, ..., -1.23817314,\n",
       "        -1.32723824, -1.59807245],\n",
       "       ...,\n",
       "       [-2.11672593, -1.52141891, -3.07781519, ..., -1.46001662,\n",
       "        -1.63136555, -1.36480209],\n",
       "       [43.11137697, -1.37892659, -2.32409991, ..., -1.76336348,\n",
       "        -1.35814615, -1.43248015],\n",
       "       [37.10634607, -1.61451531, -3.79890124, ..., -1.34577267,\n",
       "        -1.3517221 , -1.7336539 ]])"
      ]
     },
     "execution_count": 4,
     "metadata": {},
     "output_type": "execute_result"
    }
   ],
   "source": [
    "ensemble_logits"
   ]
  },
  {
   "cell_type": "code",
   "execution_count": 45,
   "id": "43a58fa5-284e-4732-9121-a85e269fe51f",
   "metadata": {},
   "outputs": [],
   "source": [
    "result = np.argmax(ensemble_logits, axis=1)\n",
    "output_pred = list(result)\n",
    "pred_answer =  list(np.array(output_pred).reshape(-1))"
   ]
  },
  {
   "cell_type": "code",
   "execution_count": 46,
   "id": "e01458f3-d234-401d-b948-cb0f35c26b6e",
   "metadata": {},
   "outputs": [],
   "source": [
    "# make csv file with predicted answer\n",
    "output = pd.DataFrame(pred_answer, columns=['pred'])\n",
    "output.to_csv(f'./results/r_roberta_roberta_koelectra_soft.csv', index=False)"
   ]
  },
  {
   "cell_type": "code",
   "execution_count": null,
   "id": "03b7d79c-07ce-4b6d-8135-f24e6584c4f6",
   "metadata": {},
   "outputs": [],
   "source": []
  },
  {
   "cell_type": "markdown",
   "id": "76b078b7-62a3-4dfe-813b-26bd37f08428",
   "metadata": {},
   "source": [
    "## Hard voting"
   ]
  },
  {
   "cell_type": "code",
   "execution_count": 35,
   "id": "b117b01b-cf37-4719-9f4b-55cc5771bd1d",
   "metadata": {},
   "outputs": [],
   "source": [
    "ensemble_list = ['r_kfold', 'koelectra_ensemble', 'kfold']\n",
    "output_pred = []\n",
    "for i in range(len(ensemble_list)):\n",
    "    pred = pd.read_csv(f'./results/{ensemble_list[i]}.csv')\n",
    "    result = np.array(pred['pred'].tolist())\n",
    "    output_pred.append(list(np.array(result).reshape(-1)))"
   ]
  },
  {
   "cell_type": "code",
   "execution_count": null,
   "id": "4e052c61-9dc8-4420-ac2c-4952f307fabf",
   "metadata": {},
   "outputs": [],
   "source": [
    "output_pred"
   ]
  },
  {
   "cell_type": "code",
   "execution_count": 36,
   "id": "c658b9c4-8de1-416d-b5e6-c5799d4aaf34",
   "metadata": {},
   "outputs": [],
   "source": [
    "from scipy.stats import mode\n",
    "\n",
    "ensemble_output = []\n",
    "for i in range(1000):\n",
    "    ensemble_output.append(mode([output_pred[0][i], output_pred[1][i], output_pred[2][i]])[0][0])"
   ]
  },
  {
   "cell_type": "code",
   "execution_count": null,
   "id": "332ca15e-495b-4332-8119-dff99953295f",
   "metadata": {},
   "outputs": [],
   "source": [
    "ensemble_output"
   ]
  },
  {
   "cell_type": "code",
   "execution_count": 37,
   "id": "a9934843-9e9d-42e8-b5c0-b1901efe326b",
   "metadata": {},
   "outputs": [],
   "source": [
    "# make csv file with predicted answer\n",
    "output = pd.DataFrame(ensemble_output, columns=['pred'])\n",
    "output.to_csv(f'./results/r_roberta_roberta_koelectra_hard.csv', index=False)"
   ]
  },
  {
   "cell_type": "markdown",
   "id": "5b8c78b1-d545-4880-abde-45d84938a05e",
   "metadata": {},
   "source": [
    "## Compare"
   ]
  },
  {
   "cell_type": "code",
   "execution_count": 47,
   "id": "270ff914-de3c-4eb1-8399-cd5d1e94f200",
   "metadata": {},
   "outputs": [],
   "source": [
    "l1 = pd.read_csv('./results/r_roberta_roberta_koelectra_hard.csv')\n",
    "l2 = pd.read_csv('./results/r_roberta_roberta_koelectra_soft.csv')\n"
   ]
  },
  {
   "cell_type": "code",
   "execution_count": 48,
   "id": "8a6eb8e1-7ac8-4c7a-af21-9a3c8889b63d",
   "metadata": {},
   "outputs": [],
   "source": [
    "l1 = np.array(l1['pred'].tolist())\n",
    "l2 = np.array(l2['pred'].tolist())\n"
   ]
  },
  {
   "cell_type": "code",
   "execution_count": 49,
   "id": "82f85cd0-942b-41c9-9bca-b99248b219b2",
   "metadata": {},
   "outputs": [
    {
     "data": {
      "text/plain": [
       "975"
      ]
     },
     "execution_count": 49,
     "metadata": {},
     "output_type": "execute_result"
    }
   ],
   "source": [
    "len(np.where(l1 == l2)[0])"
   ]
  },
  {
   "cell_type": "code",
   "execution_count": 50,
   "id": "0fc06c74-9e63-4fea-8ed1-436221ada2da",
   "metadata": {},
   "outputs": [
    {
     "name": "stdout",
     "output_type": "stream",
     "text": [
      "45 2 0\n",
      "100 0 15\n",
      "173 0 20\n",
      "174 0 17\n",
      "196 8 11\n",
      "207 27 0\n",
      "232 6 20\n",
      "279 0 20\n",
      "344 0 34\n",
      "360 0 17\n",
      "392 11 8\n",
      "431 0 10\n",
      "441 2 0\n",
      "522 0 16\n",
      "555 15 0\n",
      "567 0 9\n",
      "579 25 0\n",
      "615 25 8\n",
      "618 6 15\n",
      "756 0 12\n",
      "819 10 0\n",
      "859 5 0\n",
      "898 0 10\n",
      "935 9 0\n",
      "994 8 11\n"
     ]
    }
   ],
   "source": [
    "diff = np.where(l1 != l2)[0]\n",
    "\n",
    "for i in diff:\n",
    "    print(i, l1[i], l2[i])"
   ]
  },
  {
   "cell_type": "code",
   "execution_count": null,
   "id": "9660dfe1-2acb-4a96-9d52-88def4948fdb",
   "metadata": {},
   "outputs": [],
   "source": []
  }
 ],
 "metadata": {
  "kernelspec": {
   "display_name": "Python 3",
   "language": "python",
   "name": "python3"
  },
  "language_info": {
   "codemirror_mode": {
    "name": "ipython",
    "version": 3
   },
   "file_extension": ".py",
   "mimetype": "text/x-python",
   "name": "python",
   "nbconvert_exporter": "python",
   "pygments_lexer": "ipython3",
   "version": "3.7.7"
  }
 },
 "nbformat": 4,
 "nbformat_minor": 5
}
